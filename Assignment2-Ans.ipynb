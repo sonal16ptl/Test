{
 "cells": [
  {
   "cell_type": "code",
   "execution_count": null,
   "id": "69d818a4",
   "metadata": {},
   "outputs": [],
   "source": [
    "1.What are the two values of the Boolean data type? How do you write them?\n",
    "Ans. True and False \n",
    "write in comparision operations. with starting alphate in capitale\n"
   ]
  },
  {
   "cell_type": "code",
   "execution_count": null,
   "id": "6aee9e42",
   "metadata": {},
   "outputs": [],
   "source": [
    "2. What are the three different types of Boolean operators?\n",
    "ans. AND,OR,NOT"
   ]
  },
  {
   "cell_type": "code",
   "execution_count": null,
   "id": "22a308fc",
   "metadata": {},
   "outputs": [],
   "source": [
    "3. Make a list of each Boolean operator's truth tables (i.e. every possible combination of Boolean values for the operator and what it evaluate ).\n",
    "Ans. AND Table\n",
    "0(False) 0(False) = 0(False)\n",
    "0(False) 1(True)  = 0(False)\n",
    "1(True)  0(False) = 0(False)\n",
    "1(True)  1(True)  = 1(True)\n",
    "\n",
    "OR TABLE:\n",
    "0(False) 0(False) = 0(False)\n",
    "0(False) 1(True)  = 1(True)\n",
    "1(True)  0(False) = 1(True)\n",
    "1(True)  1(True)  = 1(True)\n",
    "\n",
    "NOT TABLE: \n",
    "0(False) 1(True) \n",
    "1(True)  0(False)"
   ]
  },
  {
   "cell_type": "code",
   "execution_count": 10,
   "id": "8cc81251",
   "metadata": {},
   "outputs": [
    {
     "data": {
      "text/plain": [
       "True"
      ]
     },
     "execution_count": 10,
     "metadata": {},
     "output_type": "execute_result"
    }
   ],
   "source": [
    "4. What are the values of the following expressions?\n",
    "(5 > 4) and (3 == 5) = False\n",
    "not (5 > 4) =False\n",
    "(5 > 4) or (3 == 5) = True\n",
    "not ((5 > 4) or (3 == 5)) = False\n",
    "(True and True) and (True == False) = False\n",
    "(not False) or (not True) = True\n"
   ]
  },
  {
   "cell_type": "code",
   "execution_count": null,
   "id": "9456d055",
   "metadata": {},
   "outputs": [],
   "source": [
    "5. What are the six comparison operators?\n",
    " Ans: != not equal to"
   ]
  },
  {
   "cell_type": "code",
   "execution_count": null,
   "id": "bd8fe325",
   "metadata": {},
   "outputs": [],
   "source": [
    "6. How do you tell the difference between the equal to and assignment operators?Describe a condition and when you would use one.\n",
    "Ans: equalto means assign a value to variable and assignment operators means check the given two value is equal or not.\n",
    "    ex: i=2\n",
    "        i>=5\n",
    "        here i=2 is assign 2(value) to i variable\n",
    "        i>=5 means check if i is graterthen or equal to 5 or not if yes then return boolean value  True otherwise False\n",
    "    it is use in conditional or comparision operation."
   ]
  },
  {
   "cell_type": "code",
   "execution_count": 12,
   "id": "953750a1",
   "metadata": {},
   "outputs": [
    {
     "name": "stdout",
     "output_type": "stream",
     "text": [
      "ham\n",
      "spam\n",
      "spam\n"
     ]
    }
   ],
   "source": [
    "7. Identify the three blocks in this code:\n",
    "spam = 0\n",
    "if spam == 10: #Block1\n",
    "    print('eggs')\n",
    "if spam > 5: #block2\n",
    "    print('bacon')\n",
    "else: #block3\n",
    "    print('ham')\n",
    "    print('spam')\n",
    "    print('spam')\n"
   ]
  },
  {
   "cell_type": "code",
   "execution_count": 22,
   "id": "35c42dd6",
   "metadata": {},
   "outputs": [
    {
     "name": "stdout",
     "output_type": "stream",
     "text": [
      "Enter Num: 8\n",
      "Greetings!\n"
     ]
    }
   ],
   "source": [
    "8. Write code that prints Hello if 1 is stored in spam, prints Howdy if 2 is stored in spam, and prints Greetings! if anything else is stored in spam.\n",
    "Ans: spam= int(input(\"Enter Num: \"))\n",
    "if spam == 1 :\n",
    "        print(\"Hello\")\n",
    "elif spam == 2 :\n",
    "        print(\"Howdy\")\n",
    "else :\n",
    "        print(\"Greetings!\")"
   ]
  },
  {
   "cell_type": "code",
   "execution_count": null,
   "id": "3ff4dfde",
   "metadata": {},
   "outputs": [],
   "source": [
    "9.If your programme is stuck in an endless loop, what keys you’ll press?\n",
    "Ans: ctrl+c"
   ]
  },
  {
   "cell_type": "code",
   "execution_count": null,
   "id": "ce2a52c4",
   "metadata": {},
   "outputs": [],
   "source": [
    "10. How can you tell the difference between break and continue?\n",
    "Ans: break statement is Stop your current runing loop and get out of the loop for next\n",
    "    and continue is reject all cuurent running statement and get back to top of the loop\n",
    "    p=8\n",
    "for i in range(p):\n",
    "    if p==5:\n",
    "        break\n",
    "    print(\"Ok\")\n",
    "    \n",
    "    "
   ]
  },
  {
   "cell_type": "code",
   "execution_count": 30,
   "id": "28090aa6",
   "metadata": {},
   "outputs": [
    {
     "name": "stdout",
     "output_type": "stream",
     "text": [
      "Fine\n",
      "Fine\n",
      "Fine\n",
      "Fine\n",
      "Fine\n",
      "Fine\n",
      "Fine\n",
      "Fine\n"
     ]
    }
   ],
   "source": [
    " p=8\n",
    "for i in range(p):\n",
    "    if p==5:\n",
    "        continue\n",
    "    print(\"Fine\")\n",
    "    \n",
    "    "
   ]
  },
  {
   "cell_type": "code",
   "execution_count": null,
   "id": "f0134ded",
   "metadata": {},
   "outputs": [],
   "source": [
    "11. In a for loop, what is the difference between range(10), range(0, 10), and range(0, 10, 1)?\n",
    "Ans: range(10) means value (0,10)=0,1,2,3,4,5,6,7,8,9\n",
    "     range(0, 10) same as above\n",
    "range(0,10,1)= this is also same here start at 0 end with 10 and jump by 1"
   ]
  },
  {
   "cell_type": "code",
   "execution_count": 32,
   "id": "6afed731",
   "metadata": {},
   "outputs": [
    {
     "name": "stdout",
     "output_type": "stream",
     "text": [
      "1\n",
      "2\n",
      "3\n",
      "4\n",
      "5\n",
      "6\n",
      "7\n",
      "8\n",
      "9\n",
      "10\n"
     ]
    }
   ],
   "source": [
    "#12. Write a short program that prints the numbers 1 to 10 using a for loop. Then write an equivalent program that prints the numbers 1 to 10 using a while loop.\n",
    "#Ans:\n",
    "for i in range(1,11):\n",
    "    print(i)"
   ]
  },
  {
   "cell_type": "code",
   "execution_count": 34,
   "id": "8d8ab5e0",
   "metadata": {},
   "outputs": [
    {
     "name": "stdout",
     "output_type": "stream",
     "text": [
      "1\n",
      "2\n",
      "3\n",
      "4\n",
      "5\n",
      "6\n",
      "7\n",
      "8\n",
      "9\n",
      "10\n"
     ]
    }
   ],
   "source": [
    "p=1\n",
    "while p<=10:\n",
    "    print(p)\n",
    "    p+=1\n",
    "    "
   ]
  },
  {
   "cell_type": "code",
   "execution_count": null,
   "id": "2be5caf3",
   "metadata": {},
   "outputs": [],
   "source": [
    "13. If you had a function named bacon() inside a module named spam, how would you call it after importing spam?\n",
    "Ans: spam.bacon()"
   ]
  }
 ],
 "metadata": {
  "kernelspec": {
   "display_name": "Python 3 (ipykernel)",
   "language": "python",
   "name": "python3"
  },
  "language_info": {
   "codemirror_mode": {
    "name": "ipython",
    "version": 3
   },
   "file_extension": ".py",
   "mimetype": "text/x-python",
   "name": "python",
   "nbconvert_exporter": "python",
   "pygments_lexer": "ipython3",
   "version": "3.9.12"
  }
 },
 "nbformat": 4,
 "nbformat_minor": 5
}
