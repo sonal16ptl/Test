{
 "cells": [
  {
   "cell_type": "code",
   "execution_count": null,
   "id": "9c004bf1",
   "metadata": {},
   "outputs": [],
   "source": [
    "1. Why are functions advantageous to have in your programs?\n",
    "Ans: Functions are using for reduce repeated or duplication in coding.so that your programme is easily readable and update."
   ]
  },
  {
   "cell_type": "code",
   "execution_count": null,
   "id": "e703128f",
   "metadata": {},
   "outputs": [],
   "source": [
    "2. When does the code in a function run: when it's specified or when it's called?\n",
    "Ans: when you call the function after that run time, inside function code is execute one by one."
   ]
  },
  {
   "cell_type": "code",
   "execution_count": null,
   "id": "671579a7",
   "metadata": {},
   "outputs": [],
   "source": [
    "3. What statement creates a function?\n",
    "Ans: first you need to declare and give a name of function.then create variable for a function and write your code statements in function.\n"
   ]
  },
  {
   "cell_type": "code",
   "execution_count": null,
   "id": "e447aeb5",
   "metadata": {},
   "outputs": [],
   "source": [
    "4. What is the difference between a function and a function call?\n",
    "Ans: Function is contain a block of code which is perform  operations and returns result.\n",
    "    Function call is pass argument and control of a function"
   ]
  },
  {
   "cell_type": "code",
   "execution_count": null,
   "id": "35ae2d0f",
   "metadata": {},
   "outputs": [],
   "source": [
    "5. How many global scopes are there in a Python program? How many local scopes?\n",
    "Ans: one global scope in python"
   ]
  },
  {
   "cell_type": "code",
   "execution_count": null,
   "id": "10a37948",
   "metadata": {},
   "outputs": [],
   "source": [
    "6. What happens to variables in a local scope when the function call returns?\n",
    "Ans: local variable is destroy when in function call returns"
   ]
  },
  {
   "cell_type": "code",
   "execution_count": null,
   "id": "e3e0ca7f",
   "metadata": {},
   "outputs": [],
   "source": [
    "7. What is the concept of a return value? Is it possible to have a return value in an expression?\n",
    "Ans: return value is calling  function when it complete the task.\n",
    "yes it is possible"
   ]
  },
  {
   "cell_type": "code",
   "execution_count": null,
   "id": "75f55099",
   "metadata": {},
   "outputs": [],
   "source": [
    "8. If a function does not have a return statement, what is the return value of a call to that function?\n",
    "Ans: it return last statement of the function"
   ]
  },
  {
   "cell_type": "code",
   "execution_count": null,
   "id": "fbb84e2e",
   "metadata": {},
   "outputs": [],
   "source": [
    "9. How do you make a function variable refer to the global variable?\n",
    "Ans: use global keyword to declare which varibale are global"
   ]
  },
  {
   "cell_type": "code",
   "execution_count": null,
   "id": "1482e32a",
   "metadata": {},
   "outputs": [],
   "source": [
    "10. What is the data type of None?\n",
    "Ans: None it self"
   ]
  },
  {
   "cell_type": "code",
   "execution_count": null,
   "id": "f41f067b",
   "metadata": {},
   "outputs": [],
   "source": [
    "11. What does the sentence import areallyourpetsnamederic do?\n",
    "Ans: "
   ]
  },
  {
   "cell_type": "code",
   "execution_count": null,
   "id": "e5b0832d",
   "metadata": {},
   "outputs": [],
   "source": [
    "12. If you had a bacon() feature in a spam module, what would you call it after importing spam?\n",
    "Ans: spam.bacon()"
   ]
  },
  {
   "cell_type": "code",
   "execution_count": null,
   "id": "f3b77110",
   "metadata": {},
   "outputs": [],
   "source": [
    "13. What can you do to save a programme from crashing if it encounters an error?\n",
    "Ans: "
   ]
  },
  {
   "cell_type": "code",
   "execution_count": null,
   "id": "a37c1ccc",
   "metadata": {},
   "outputs": [],
   "source": [
    "14. What is the purpose of the try clause? What is the purpose of the except clause?\n",
    "Ans: its is for test a code block of error.for error handling of your code, use except clause "
   ]
  }
 ],
 "metadata": {
  "kernelspec": {
   "display_name": "Python 3 (ipykernel)",
   "language": "python",
   "name": "python3"
  },
  "language_info": {
   "codemirror_mode": {
    "name": "ipython",
    "version": 3
   },
   "file_extension": ".py",
   "mimetype": "text/x-python",
   "name": "python",
   "nbconvert_exporter": "python",
   "pygments_lexer": "ipython3",
   "version": "3.9.12"
  }
 },
 "nbformat": 4,
 "nbformat_minor": 5
}
