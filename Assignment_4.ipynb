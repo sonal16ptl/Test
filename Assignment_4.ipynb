{
 "cells": [
  {
   "cell_type": "code",
   "execution_count": null,
   "id": "97d594af",
   "metadata": {},
   "outputs": [],
   "source": [
    "1. What exactly is []?\n",
    "Ans: it is blank parenthesis use to indicate list."
   ]
  },
  {
   "cell_type": "code",
   "execution_count": 4,
   "id": "4f455659",
   "metadata": {},
   "outputs": [
    {
     "data": {
      "text/plain": [
       "[2, 4, 'hello', 6, 8, 10]"
      ]
     },
     "execution_count": 4,
     "metadata": {},
     "output_type": "execute_result"
    }
   ],
   "source": [
    "2. In a list of values stored in a variable called spam,how would you assign the value 'hello' as the third value? (Assume [2, 4, 6, 8, 10] are in spam.)\n",
    "Ans: \n",
    "spam=[2, 4, 6, 8, 10]\n",
    "spam.insert(2,\"hello\")\n",
    "spam"
   ]
  },
  {
   "cell_type": "code",
   "execution_count": null,
   "id": "c9faa185",
   "metadata": {},
   "outputs": [],
   "source": [
    "Let's pretend the spam includes the list ['a', 'b', 'c', 'd'] for the next three queries."
   ]
  },
  {
   "cell_type": "code",
   "execution_count": 5,
   "id": "0daa094a",
   "metadata": {},
   "outputs": [
    {
     "data": {
      "text/plain": [
       "'d'"
      ]
     },
     "execution_count": 5,
     "metadata": {},
     "output_type": "execute_result"
    }
   ],
   "source": [
    "3. What is the value of spam[int(int('3' * 2) / 11)]?\n",
    "Ans: \n",
    "spam=['a','b','c','d']\n",
    "spam[int(int('3'*2)/11)]"
   ]
  },
  {
   "cell_type": "code",
   "execution_count": 6,
   "id": "bc1fc667",
   "metadata": {},
   "outputs": [
    {
     "data": {
      "text/plain": [
       "'d'"
      ]
     },
     "execution_count": 6,
     "metadata": {},
     "output_type": "execute_result"
    }
   ],
   "source": [
    "4. What is the value of spam[-1]?\n",
    "Ans:\n",
    "spam[-1]"
   ]
  },
  {
   "cell_type": "code",
   "execution_count": 7,
   "id": "14cebfe9",
   "metadata": {},
   "outputs": [
    {
     "data": {
      "text/plain": [
       "['a', 'b']"
      ]
     },
     "execution_count": 7,
     "metadata": {},
     "output_type": "execute_result"
    }
   ],
   "source": [
    "5. What is the value of spam[:2]?\n",
    "Ans:\n",
    "spam[:2]"
   ]
  },
  {
   "cell_type": "code",
   "execution_count": null,
   "id": "1a8931f2",
   "metadata": {},
   "outputs": [],
   "source": [
    "Let's pretend bacon has the list [3.14, 'cat,' 11, 'cat,' True] for the next three questions."
   ]
  },
  {
   "cell_type": "code",
   "execution_count": 8,
   "id": "5eb841d0",
   "metadata": {},
   "outputs": [
    {
     "data": {
      "text/plain": [
       "1"
      ]
     },
     "execution_count": 8,
     "metadata": {},
     "output_type": "execute_result"
    }
   ],
   "source": [
    "6. What is the value of bacon.index('cat')?\n",
    "Ans:\n",
    "bacon=[3.14,'cat',11,'cat',True]\n",
    "bacon.index('cat')"
   ]
  },
  {
   "cell_type": "code",
   "execution_count": 13,
   "id": "5126faab",
   "metadata": {},
   "outputs": [
    {
     "data": {
      "text/plain": [
       "[3.14, 'cat', 11, 'cat', True, 99]"
      ]
     },
     "execution_count": 13,
     "metadata": {},
     "output_type": "execute_result"
    }
   ],
   "source": [
    "7. How does bacon.append(99) change the look of the list value in bacon?\n",
    "Ans: added 99 at last index of list\n",
    "bacon.append(99)\n",
    "bacon"
   ]
  },
  {
   "cell_type": "code",
   "execution_count": 19,
   "id": "77c3e421",
   "metadata": {},
   "outputs": [
    {
     "data": {
      "text/plain": [
       "[3.14, 11, 'cat', True]"
      ]
     },
     "execution_count": 19,
     "metadata": {},
     "output_type": "execute_result"
    }
   ],
   "source": [
    "8. How does bacon.remove('cat') change the look of the list in bacon?\n",
    "Ans: 'cat' latter remove from list comes to first in index.\n",
    "bacon=[3.14,'cat',11,'cat',True]\n",
    "bacon.remove('cat')\n",
    "bacon"
   ]
  },
  {
   "cell_type": "code",
   "execution_count": null,
   "id": "176003e0",
   "metadata": {},
   "outputs": [],
   "source": [
    "9. What are the list concatenation and list replication operators?\n",
    "Ans:list concatanation operator is +,[]\n",
    "    replication operator is *"
   ]
  },
  {
   "cell_type": "code",
   "execution_count": null,
   "id": "51c39d71",
   "metadata": {},
   "outputs": [],
   "source": [
    "10. What is difference between the list methods append() and insert()?\n",
    "Ans: appned() is added value at  last index of your list. ex: l=[1,2,'a']\n",
    "                                                              l.append(23)  output: l=[1,2,'a',23]\n",
    "    here 23 is added at last index of list whether \n",
    "    insert() is added value at your given index number.ex: l=[1,2,'a']\n",
    "                                                        l.index(1,'b') output: l=[1,'b',2,'a']\n",
    "    l.index(1,'b') here 1=index number and 'b' is value which is added at index number 1."
   ]
  },
  {
   "cell_type": "code",
   "execution_count": null,
   "id": "6d735c41",
   "metadata": {},
   "outputs": [],
   "source": [
    "11. What are the two methods for removing items from a list?\n",
    "Ans: pop() and remove() "
   ]
  },
  {
   "cell_type": "code",
   "execution_count": null,
   "id": "956d1b59",
   "metadata": {},
   "outputs": [],
   "source": [
    "12. Describe how list values and string values are identical.\n",
    "Ans: list is mutable and list contain interger,string,float value. weather string is immutable and string conatians only character"
   ]
  },
  {
   "cell_type": "code",
   "execution_count": null,
   "id": "bdfde32f",
   "metadata": {},
   "outputs": [],
   "source": [
    "13. What's the difference between tuples and lists?\n",
    "Ans: tuple is immutable.tuples are represent with ().item assignment is not possible here.\n",
    "    list is mutable and it represent with [].item assignment is possible."
   ]
  },
  {
   "cell_type": "code",
   "execution_count": null,
   "id": "68dcd646",
   "metadata": {},
   "outputs": [],
   "source": [
    "14. How do you type a tuple value that only contains the integer 42?\n",
    "Ans: t=(42)"
   ]
  },
  {
   "cell_type": "code",
   "execution_count": null,
   "id": "c547ba2a",
   "metadata": {},
   "outputs": [],
   "source": [
    "15. How do you get a list value's tuple form? How do you get a tuple value's list form?\n",
    "Ans: convert tuple in to list.ex: t=(1,2,3)\n",
    "                                  list(t)\n",
    "    convert list in to tupe. ex: l=[1,2,'a']\n",
    "                                 tuple(l)"
   ]
  },
  {
   "cell_type": "code",
   "execution_count": null,
   "id": "ecacd5e2",
   "metadata": {},
   "outputs": [],
   "source": [
    "16. Variables that \"contain\" list values are not necessarily lists themselves. Instead, what do they contain?\n",
    "Ans:varibale contain reference to list value so conatin list value themselves "
   ]
  },
  {
   "cell_type": "code",
   "execution_count": null,
   "id": "e236e80a",
   "metadata": {},
   "outputs": [],
   "source": [
    "17. How do you distinguish between copy.copy() and copy.deepcopy()?\n",
    "Ans: copy() is reference to original object so that change in copyied object it's automatically change in original object\n",
    "    deepcopy() is create new object and added copy of nested objects presents in orignala elements"
   ]
  }
 ],
 "metadata": {
  "kernelspec": {
   "display_name": "Python 3 (ipykernel)",
   "language": "python",
   "name": "python3"
  },
  "language_info": {
   "codemirror_mode": {
    "name": "ipython",
    "version": 3
   },
   "file_extension": ".py",
   "mimetype": "text/x-python",
   "name": "python",
   "nbconvert_exporter": "python",
   "pygments_lexer": "ipython3",
   "version": "3.9.12"
  }
 },
 "nbformat": 4,
 "nbformat_minor": 5
}
