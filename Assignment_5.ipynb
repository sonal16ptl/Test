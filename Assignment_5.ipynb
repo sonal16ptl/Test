{
 "cells": [
  {
   "cell_type": "code",
   "execution_count": null,
   "id": "a47a4615",
   "metadata": {},
   "outputs": [],
   "source": [
    "1. What does an empty dictionary's code look like?\n",
    "Ans: d={}, here d is dictionary name "
   ]
  },
  {
   "cell_type": "code",
   "execution_count": 2,
   "id": "59255568",
   "metadata": {},
   "outputs": [],
   "source": [
    "2. What is the value of a dictionary value with the key 'foo' and the value 42?\n",
    "Ans:d={'foo':42}\n",
    "    d.values() \n",
    "here foo is key and 42 is value.\n",
    "  "
   ]
  },
  {
   "cell_type": "code",
   "execution_count": null,
   "id": "1895ff77",
   "metadata": {},
   "outputs": [],
   "source": [
    "3. What is the most significant distinction between a dictionary and a list?\n",
    "Ans: list conatians index wise value with []. and Dictionary conatains key with their value with {}.\n",
    "    ex: l=[1,2,\"abc\"] this is a list\n",
    "    ex: d={\"key1\":\"value1\", \"key2\":\"value2\"}"
   ]
  },
  {
   "cell_type": "code",
   "execution_count": null,
   "id": "a2f6d01f",
   "metadata": {},
   "outputs": [],
   "source": [
    "4. What happens if you try to access spam['foo'] if spam is {'bar': 100}?\n",
    "Ans:it's gives error because first it check a value 'foo' in spam as a key or not and it's not available their then gives you error"
   ]
  },
  {
   "cell_type": "code",
   "execution_count": null,
   "id": "c5934ffb",
   "metadata": {},
   "outputs": [],
   "source": [
    "5. If a dictionary is stored in spam, what is the difference between the expressions 'cat' in spam and 'cat' in spam.keys()?\n",
    "Ans: 'cat' store in spam as value or key is checked in dictionary,first it will check that and spam.keys() means spam's key is return as output"
   ]
  },
  {
   "cell_type": "code",
   "execution_count": null,
   "id": "8c689182",
   "metadata": {},
   "outputs": [],
   "source": [
    "6. If a dictionary is stored in spam, what is the difference between the expressions 'cat' in spam and 'cat' in spam.values()?\n",
    "Ans: 'cat' store in spam as value or key is checked in dictionary. spam.values() gives or return you a spam's keys's value,if their is one of the key value is 'cat'."
   ]
  },
  {
   "cell_type": "code",
   "execution_count": null,
   "id": "af9df3bb",
   "metadata": {},
   "outputs": [],
   "source": [
    "7. What is a shortcut for the following code?\n",
    "if 'color' not in spam:\n",
    "spam['color'] = 'black'\n",
    "Ans: spam.setdefault('color','black')"
   ]
  },
  {
   "cell_type": "code",
   "execution_count": null,
   "id": "1177abcc",
   "metadata": {},
   "outputs": [],
   "source": [
    "8. How do you \"pretty print\" dictionary values using which module and function?\n",
    "Ans: pprint() is use for \"pretty print\""
   ]
  }
 ],
 "metadata": {
  "kernelspec": {
   "display_name": "Python 3 (ipykernel)",
   "language": "python",
   "name": "python3"
  },
  "language_info": {
   "codemirror_mode": {
    "name": "ipython",
    "version": 3
   },
   "file_extension": ".py",
   "mimetype": "text/x-python",
   "name": "python",
   "nbconvert_exporter": "python",
   "pygments_lexer": "ipython3",
   "version": "3.9.12"
  }
 },
 "nbformat": 4,
 "nbformat_minor": 5
}
