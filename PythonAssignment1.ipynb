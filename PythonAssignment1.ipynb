{
 "cells": [
  {
   "cell_type": "code",
   "execution_count": null,
   "id": "1852dc06",
   "metadata": {},
   "outputs": [],
   "source": [
    "1. In the below elements which of them are values or an expression? eg:- values can be integer or string and expressions will be mathematical operators.\n",
    "* \n",
    "'hello'= Value\n",
    "-87.8 = Value\n",
    "- = Expression\n",
    "/ = Expression\n",
    "+ = Expression\n",
    "6 = value\n"
   ]
  },
  {
   "cell_type": "code",
   "execution_count": null,
   "id": "9e57b7b7",
   "metadata": {},
   "outputs": [],
   "source": [
    "2. What is the difference between string and variable?\n",
    "Ans: String is  type of variable. and string is always assign in \"\" , '' format\n",
    "    also string is in word format. ex: a=\"abc\"//String\n",
    "--> Variable is store data or information,variable name is always in character \n",
    "    ex: a=\"abc\" // here 'a' is  variable which is store information in string format"
   ]
  },
  {
   "cell_type": "code",
   "execution_count": null,
   "id": "10ed9720",
   "metadata": {},
   "outputs": [],
   "source": [
    "3. Describe three different data types.\n",
    "Ans: Datatype: Integer,Float,String\n",
    "    Integer: it is written \"int\"  in programme and it's stores numbers. ex: a= 15\n",
    "    Float: Float can store fraction value in integer format. ex: a= 20.5\n",
    "    String: String is written \"str\" in programme and always in \"\",''. it's stores characters. ex: a=\"abc\""
   ]
  },
  {
   "cell_type": "code",
   "execution_count": null,
   "id": "8abf79df",
   "metadata": {},
   "outputs": [],
   "source": [
    "4. What is an expression made up of? What do all expressions do?\n",
    "Ans: Expression is combination of operater and value or operand.\n",
    "    Expression is using in condition statement,arithmatic operations.\n",
    "    ex: a=5+2"
   ]
  },
  {
   "cell_type": "code",
   "execution_count": null,
   "id": "d080fe00",
   "metadata": {},
   "outputs": [],
   "source": [
    "5. This assignment statements, like spam = 10. What is the difference between an expression and a statement?\n",
    "Ans. Statements is just like a command which is execute same statement as you wrote,ex: Print(\" enter value\")\n",
    "    Expression contain value,arithmatic operations,container."
   ]
  },
  {
   "cell_type": "code",
   "execution_count": 1,
   "id": "da77e301",
   "metadata": {},
   "outputs": [
    {
     "data": {
      "text/plain": [
       "23"
      ]
     },
     "execution_count": 1,
     "metadata": {},
     "output_type": "execute_result"
    }
   ],
   "source": [
    "6. After running the following code, what does the variable bacon contain?\n",
    "bacon = 22\n",
    "bacon + 1\n",
    "Ans: 23"
   ]
  },
  {
   "cell_type": "code",
   "execution_count": 5,
   "id": "4abbc409",
   "metadata": {},
   "outputs": [
    {
     "data": {
      "text/plain": [
       "'spamspamspam'"
      ]
     },
     "execution_count": 5,
     "metadata": {},
     "output_type": "execute_result"
    }
   ],
   "source": [
    "#7. What should the values of the following two terms be?\n",
    "'spam' + 'spamspam'\n",
    "Ans:'spamspamspam'\n",
    "'spam' * 3\n",
    "Ans: 'spamspamspam'\n"
   ]
  },
  {
   "cell_type": "code",
   "execution_count": null,
   "id": "5b411495",
   "metadata": {},
   "outputs": [],
   "source": [
    "8. Why is eggs a valid variable name while 100 is invalid?\n",
    "Ans: because variable name must should be in string format, it can't be in interger format"
   ]
  },
  {
   "cell_type": "code",
   "execution_count": null,
   "id": "220a46df",
   "metadata": {},
   "outputs": [],
   "source": [
    "9. What three functions can be used to get the integer, floating-point number, or string version of a value?\n",
    "Ans: int()\n",
    "    float()\n",
    "    str()"
   ]
  },
  {
   "cell_type": "code",
   "execution_count": null,
   "id": "08ea4915",
   "metadata": {},
   "outputs": [],
   "source": [
    "10. Why does this expression cause an error? How can you fix it?\n",
    "'I have eaten ' + 99 + ' burritos.'\n",
    "Ans: Because 99 is a interger and string can not be concatenate with inetger . you can fix it with give datatype(typecast)."
   ]
  }
 ],
 "metadata": {
  "kernelspec": {
   "display_name": "Python 3 (ipykernel)",
   "language": "python",
   "name": "python3"
  },
  "language_info": {
   "codemirror_mode": {
    "name": "ipython",
    "version": 3
   },
   "file_extension": ".py",
   "mimetype": "text/x-python",
   "name": "python",
   "nbconvert_exporter": "python",
   "pygments_lexer": "ipython3",
   "version": "3.9.12"
  }
 },
 "nbformat": 4,
 "nbformat_minor": 5
}
